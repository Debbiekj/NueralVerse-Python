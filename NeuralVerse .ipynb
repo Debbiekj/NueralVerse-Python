{
 "cells": [
  {
   "cell_type": "code",
   "execution_count": 1,
   "id": "0a800fa3",
   "metadata": {},
   "outputs": [
    {
     "data": {
      "text/plain": [
       "4"
      ]
     },
     "execution_count": 1,
     "metadata": {},
     "output_type": "execute_result"
    }
   ],
   "source": [
    "x = 4\n",
    "x"
   ]
  },
  {
   "cell_type": "code",
   "execution_count": null,
   "id": "4094ae1d",
   "metadata": {},
   "outputs": [],
   "source": [
    "pip install jupyterthemes"
   ]
  },
  {
   "cell_type": "code",
   "execution_count": 2,
   "id": "54d0cb24",
   "metadata": {},
   "outputs": [
    {
     "data": {
      "text/plain": [
       "['Rishav', 'NeuralVerse', 'Data Science']"
      ]
     },
     "execution_count": 2,
     "metadata": {},
     "output_type": "execute_result"
    }
   ],
   "source": [
    "x = list((\"Rishav\", \"NeuralVerse\", 'Data Science'))\n",
    "x\n"
   ]
  },
  {
   "cell_type": "code",
   "execution_count": 3,
   "id": "658218b5",
   "metadata": {},
   "outputs": [
    {
     "data": {
      "text/plain": [
       "['Machine learning', 'pbi', 'aws']"
      ]
     },
     "execution_count": 3,
     "metadata": {},
     "output_type": "execute_result"
    }
   ],
   "source": [
    "y = list (('Machine learning', 'pbi', 'aws'))\n",
    "y\n"
   ]
  },
  {
   "cell_type": "code",
   "execution_count": 5,
   "id": "44183b2a",
   "metadata": {},
   "outputs": [],
   "source": [
    "x.sort()"
   ]
  },
  {
   "cell_type": "code",
   "execution_count": 7,
   "id": "66808c2a",
   "metadata": {},
   "outputs": [
    {
     "name": "stdout",
     "output_type": "stream",
     "text": [
      "[12, 23, 45, 73, 75, 98]\n"
     ]
    }
   ],
   "source": [
    "x = [75,73,23,45,98,12]\n",
    "x.sort()\n",
    "print(x)"
   ]
  },
  {
   "cell_type": "code",
   "execution_count": 8,
   "id": "4439216f",
   "metadata": {},
   "outputs": [
    {
     "name": "stdout",
     "output_type": "stream",
     "text": [
      "[98, 75, 73, 45, 23, 12]\n"
     ]
    }
   ],
   "source": [
    "x.sort(reverse = True)\n",
    "print (x)"
   ]
  },
  {
   "cell_type": "code",
   "execution_count": 9,
   "id": "233c6197",
   "metadata": {},
   "outputs": [
    {
     "name": "stdout",
     "output_type": "stream",
     "text": [
      "['Data Science', 'Machine Learning', 'NeuralVerse', 'Rishav', 'aws', 'deeplearning', 'pbi']\n"
     ]
    }
   ],
   "source": [
    "x =['Data Science', 'Machine Learning', 'NeuralVerse', 'Rishav', 'aws', 'deeplearning', 'pbi']\n",
    "print(x)"
   ]
  },
  {
   "cell_type": "code",
   "execution_count": null,
   "id": "67f8a2bf",
   "metadata": {},
   "outputs": [],
   "source": [
    "for (conditions){\n",
    "system.out.println(values)\n",
    "}"
   ]
  },
  {
   "cell_type": "code",
   "execution_count": 13,
   "id": "9ea30e4b",
   "metadata": {},
   "outputs": [
    {
     "name": "stdout",
     "output_type": "stream",
     "text": [
      "['Data Science', 'Machine Learning', 'NeuralVerse', 'aws', 'deeplearning', 'pbi']\n"
     ]
    }
   ],
   "source": [
    "course = []\n",
    "for i in x:\n",
    "   if \"Rishav\" in i:\n",
    "    x.remove('Rishav')\n",
    "course.extend(x) \n",
    "print(course)\n",
    "    "
   ]
  },
  {
   "cell_type": "code",
   "execution_count": 17,
   "id": "9b111954",
   "metadata": {},
   "outputs": [
    {
     "data": {
      "text/plain": [
       "1"
      ]
     },
     "execution_count": 17,
     "metadata": {},
     "output_type": "execute_result"
    }
   ],
   "source": [
    "course.index('Machine Learning')"
   ]
  },
  {
   "cell_type": "code",
   "execution_count": 18,
   "id": "00f79b85",
   "metadata": {},
   "outputs": [
    {
     "data": {
      "text/plain": [
       "['Math', 'Machine Learning', 'NeuralVerse', 'aws', 'deeplearning', 'pbi']"
      ]
     },
     "execution_count": 18,
     "metadata": {},
     "output_type": "execute_result"
    }
   ],
   "source": [
    "x[0] = \"Math\"\n",
    "x"
   ]
  },
  {
   "cell_type": "markdown",
   "id": "a6d4b97c",
   "metadata": {},
   "source": [
    "Tuple is immutable"
   ]
  },
  {
   "cell_type": "code",
   "execution_count": 21,
   "id": "60cdb69f",
   "metadata": {},
   "outputs": [
    {
     "data": {
      "text/plain": [
       "['math', 'Machine Learning', 'NeuralVerse', 'aws', 'deeplearning', 'pbi']"
      ]
     },
     "execution_count": 21,
     "metadata": {},
     "output_type": "execute_result"
    }
   ],
   "source": [
    "#How to add item to a tuple\n",
    "y = list(course)\n",
    "y[0] = 'math'\n",
    "y\n"
   ]
  },
  {
   "cell_type": "code",
   "execution_count": 22,
   "id": "a2f1b0a6",
   "metadata": {},
   "outputs": [
    {
     "data": {
      "text/plain": [
       "list"
      ]
     },
     "execution_count": 22,
     "metadata": {},
     "output_type": "execute_result"
    }
   ],
   "source": [
    "type(y)"
   ]
  },
  {
   "cell_type": "code",
   "execution_count": 25,
   "id": "ab6b5638",
   "metadata": {},
   "outputs": [
    {
     "data": {
      "text/plain": [
       "('math', 'Machine Learning', 'NeuralVerse', 'aws', 'deeplearning', 'pbi')"
      ]
     },
     "execution_count": 25,
     "metadata": {},
     "output_type": "execute_result"
    }
   ],
   "source": [
    "#Convert back to tuple\n",
    "tuple(y)\n"
   ]
  },
  {
   "cell_type": "code",
   "execution_count": 26,
   "id": "eb330765",
   "metadata": {},
   "outputs": [
    {
     "data": {
      "text/plain": [
       "list"
      ]
     },
     "execution_count": 26,
     "metadata": {},
     "output_type": "execute_result"
    }
   ],
   "source": [
    "type(y)"
   ]
  },
  {
   "cell_type": "code",
   "execution_count": 28,
   "id": "2c9cfc29",
   "metadata": {},
   "outputs": [
    {
     "name": "stdout",
     "output_type": "stream",
     "text": [
      "{'aws', 'pbi', 'deeplearning', 'Data Science', 'Machine Learning', 'NeuralVerse'}\n",
      "<class 'set'>\n"
     ]
    }
   ],
   "source": [
    "set1 = {'Data Science', 'Machine Learning', 'NeuralVerse', 'aws', 'deeplearning', 'pbi'}\n",
    "print(set1)\n",
    "print(type(set1))\n"
   ]
  },
  {
   "cell_type": "raw",
   "id": "1bd5795d",
   "metadata": {},
   "source": [
    "set is unordered and set does not allow duplicate records"
   ]
  },
  {
   "cell_type": "code",
   "execution_count": 40,
   "id": "e664964f",
   "metadata": {},
   "outputs": [
    {
     "data": {
      "text/plain": [
       "set()"
      ]
     },
     "execution_count": 40,
     "metadata": {},
     "output_type": "execute_result"
    }
   ],
   "source": [
    "set2 = {'Data Science', 'Machine Learning', 'NeuralVerse', 'aws', 'tableau', 'mongodb', 'database'}\n",
    "set1.difference_update(set2)\n",
    "set1"
   ]
  }
 ],
 "metadata": {
  "kernelspec": {
   "display_name": "Python 3 (ipykernel)",
   "language": "python",
   "name": "python3"
  },
  "language_info": {
   "codemirror_mode": {
    "name": "ipython",
    "version": 3
   },
   "file_extension": ".py",
   "mimetype": "text/x-python",
   "name": "python",
   "nbconvert_exporter": "python",
   "pygments_lexer": "ipython3",
   "version": "3.9.12"
  }
 },
 "nbformat": 4,
 "nbformat_minor": 5
}
